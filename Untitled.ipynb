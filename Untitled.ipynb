{
 "cells": [
  {
   "cell_type": "code",
   "execution_count": 83,
   "metadata": {},
   "outputs": [],
   "source": [
    "from neurons import Neuron, nonNMDA_Synapse\n",
    "from copy import deepcopy\n",
    "import numpy as np\n",
    "import matplotlib.pyplot as plt\n",
    "from time import time"
   ]
  },
  {
   "cell_type": "code",
   "execution_count": 84,
   "metadata": {},
   "outputs": [],
   "source": [
    "n = Neuron(0,1,[0.1],1,[5])\n",
    "syn = nonNMDA_Synapse()\n",
    "\n",
    "ini = []\n",
    "inv = []\n",
    "spi = []"
   ]
  },
  {
   "cell_type": "code",
   "execution_count": 85,
   "metadata": {},
   "outputs": [
    {
     "name": "stdout",
     "output_type": "stream",
     "text": [
      "28.42501950263977\n"
     ]
    },
    {
     "data": {
      "image/png": "[encoded data removed]",
      "text/plain": [
       "<Figure size 432x288 with 1 Axes>"
      ]
     },
     "metadata": {
      "needs_background": "light"
     },
     "output_type": "display_data"
    }
   ],
   "source": [
    "start = time()\n",
    "for i in range(40000):\n",
    "#     vs = n.simulate_step([inps[i]*(n.dendrites[0].vms[1]+n.dendrites[0].v_rest)])\n",
    "    vs = n.simulate_step([0.1])\n",
    "    inv.append(deepcopy(syn.simulate_step(vs[0])))\n",
    "    ini.append(deepcopy(vs[0]))\n",
    "    if syn.active_spike:\n",
    "        spi.append(30)\n",
    "    else:\n",
    "        spi.append(0)\n",
    "print(time() - start)\n",
    "invs = np.asarray(inv)\n",
    "inis = np.asarray(ini)\n",
    "spis = np.asarray(spi)\n",
    "plt.plot(invs)\n",
    "plt.plot(inis)\n",
    "plt.plot(spis)\n",
    "plt.show()"
   ]
  },
  {
   "cell_type": "code",
   "execution_count": 4,
   "metadata": {},
   "outputs": [
    {
     "data": {
      "text/plain": [
       "[10.560999999999586, 22.731000000004798, 34.4550000000104]"
      ]
     },
     "execution_count": 4,
     "metadata": {},
     "output_type": "execute_result"
    }
   ],
   "source": [
    "syn.spike_onset_times"
   ]
  },
  {
   "cell_type": "code",
   "execution_count": 86,
   "metadata": {},
   "outputs": [
    {
     "data": {
      "image/png": "[encoded data removed]",
      "text/plain": [
       "<Figure size 432x288 with 1 Axes>"
      ]
     },
     "metadata": {
      "needs_background": "light"
     },
     "output_type": "display_data"
    }
   ],
   "source": [
    "plt.plot(invs)\n",
    "plt.show()"
   ]
  },
  {
   "cell_type": "code",
   "execution_count": 6,
   "metadata": {},
   "outputs": [],
   "source": [
    "inps = deepcopy(invs)"
   ]
  },
  {
   "cell_type": "code",
   "execution_count": 78,
   "metadata": {},
   "outputs": [],
   "source": [
    "from network import SpyNet"
   ]
  },
  {
   "cell_type": "code",
   "execution_count": 112,
   "metadata": {},
   "outputs": [],
   "source": [
    "s_net = SpyNet()"
   ]
  },
  {
   "cell_type": "code",
   "execution_count": 113,
   "metadata": {},
   "outputs": [
    {
     "data": {
      "text/plain": [
       "4"
      ]
     },
     "execution_count": 113,
     "metadata": {},
     "output_type": "execute_result"
    }
   ],
   "source": [
    "s_net.addNeuron(1, [0.1], 1, [5])\n",
    "s_net.addNeuron(1, [0.15], 1, [7])\n",
    "s_net.addNeuron(2, [0.17, 0.06], 2, [10, 7])\n",
    "s_net.addNeuron(1, [0.05], 1, [5])\n",
    "s_net.addNeuron(1, [0.05], 1, [5])"
   ]
  },
  {
   "cell_type": "code",
   "execution_count": 114,
   "metadata": {},
   "outputs": [
    {
     "data": {
      "text/plain": [
       "3"
      ]
     },
     "execution_count": 114,
     "metadata": {},
     "output_type": "execute_result"
    }
   ],
   "source": [
    "s_net.connect([0,0],[2,0],'non-nmda')\n",
    "s_net.connect([1,0],[2,1],'non-nmda')\n",
    "s_net.connect([2,0],[3,0],'non-nmda')\n",
    "s_net.connect([2,1],[4,0],'non-nmda')\n",
    "# s_net.connect([0,0],[1,0],'non-nmda')"
   ]
  },
  {
   "cell_type": "code",
   "execution_count": 115,
   "metadata": {},
   "outputs": [
    {
     "name": "stdout",
     "output_type": "stream",
     "text": [
      "173.77427577972412\n"
     ]
    }
   ],
   "source": [
    "s1 = []\n",
    "s2 = []\n",
    "s3 = []\n",
    "s4 = []\n",
    "s5 = []\n",
    "\n",
    "start = time()\n",
    "for i in range(50000):\n",
    "    s_net.simulate_step([0,1],[[0.1],[0.2]])\n",
    "    s1.append(s_net.neurons_dict['0'].soma.membrane_potential)\n",
    "    s2.append(s_net.neurons_dict['1'].soma.membrane_potential)\n",
    "    s3.append(s_net.neurons_dict['2'].soma.membrane_potential)\n",
    "    s4.append(s_net.neurons_dict['3'].soma.membrane_potential)\n",
    "    s5.append(s_net.neurons_dict['4'].soma.membrane_potential)\n",
    "print(time() - start)\n",
    "\n",
    "s1s = np.asarray(s1)\n",
    "s2s = np.asarray(s2)\n",
    "s3s = np.asarray(s3)\n",
    "s4s = np.asarray(s4)\n",
    "s5s = np.asarray(s5)"
   ]
  },
  {
   "cell_type": "code",
   "execution_count": 7,
   "metadata": {},
   "outputs": [],
   "source": [
    "sample_syn = s_net.synapse_dict_list[0]"
   ]
  },
  {
   "cell_type": "code",
   "execution_count": 10,
   "metadata": {},
   "outputs": [
    {
     "data": {
      "text/plain": [
       "[[0], [0], [0, 0], [0], [0]]"
      ]
     },
     "execution_count": 10,
     "metadata": {},
     "output_type": "execute_result"
    }
   ],
   "source": [
    "s_net.postsynaptic_conductances"
   ]
  },
  {
   "cell_type": "code",
   "execution_count": 116,
   "metadata": {},
   "outputs": [
    {
     "data": {
      "image/png": "[encoded data removed]",
      "text/plain": [
       "<Figure size 432x288 with 1 Axes>"
      ]
     },
     "metadata": {
      "needs_background": "light"
     },
     "output_type": "display_data"
    }
   ],
   "source": [
    "plt.plot(s1s)\n",
    "plt.plot(s2s)\n",
    "plt.plot(s3s)\n",
    "plt.plot(s4s)\n",
    "plt.plot(s5s)\n",
    "plt.show()"
   ]
  },
  {
   "cell_type": "code",
   "execution_count": null,
   "metadata": {},
   "outputs": [],
   "source": []
  }
 ],
 "metadata": {
  "kernelspec": {
   "display_name": "Python 3",
   "language": "python",
   "name": "python3"
  },
  "language_info": {
   "codemirror_mode": {
    "name": "ipython",
    "version": 3
   },
   "file_extension": ".py",
   "mimetype": "text/x-python",
   "name": "python",
   "nbconvert_exporter": "python",
   "pygments_lexer": "ipython3",
   "version": "3.5.2"
  }
 },
 "nbformat": 4,
 "nbformat_minor": 2
}
