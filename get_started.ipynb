{
 "cells": [
  {
   "cell_type": "markdown",
   "metadata": {},
   "source": [
    "# SpyNet\n",
    "A simple framework for simulating interactions between multiple neurons. This is a quick get started guide for the same."
   ]
  },
  {
   "cell_type": "markdown",
   "metadata": {},
   "source": [
    "Start by importing the necessary modules"
   ]
  },
  {
   "cell_type": "code",
   "execution_count": 1,
   "metadata": {},
   "outputs": [],
   "source": [
    "from network import SpyNet\n",
    "import currents\n",
    "import numpy as np"
   ]
  },
  {
   "cell_type": "markdown",
   "metadata": {},
   "source": [
    "```currents``` module helps in building various types of inputs to the network.\n",
    "\n",
    "```SpyNet``` is the class which holds our network. "
   ]
  },
  {
   "cell_type": "code",
   "execution_count": 2,
   "metadata": {},
   "outputs": [],
   "source": [
    "s_net = SpyNet()"
   ]
  },
  {
   "cell_type": "markdown",
   "metadata": {},
   "source": [
    "We can now start adding neurons to our network.\n",
    "<br><br>\n",
    "```SpyNet``` has a method ```addNeuron``` which allows you to add neurons to the network.\n",
    "<br><br>\n",
    "```addNeuron(self, n_in=1, in_dists=None, n_out=1, out_delays=None)```\n",
    "<br><br>\n",
    "Parameters:\n",
    "<br>\n",
    "&emsp;n_in (int): number of dendrites taking input.\n",
    "<br>\n",
    "&emsp;in_dists (list): list of distances of synapses to soma along each dendrite (in cm). Typical values are around 0.1cm.\n",
    "<br>\n",
    "&emsp;n_out (int): number of postsynaptic connections.\n",
    "<br>\n",
    "&emsp;out_delays (list): list of delays from soma to each axonal terminal.\n",
    "<br><br>\n",
    "Returns:\n",
    "<br>\n",
    "&emsp;n_id (int): the id of the neuron. This is equal to the number of neurons previously present in the network.    "
   ]
  },
  {
   "cell_type": "code",
   "execution_count": 3,
   "metadata": {},
   "outputs": [
    {
     "data": {
      "text/plain": [
       "4"
      ]
     },
     "execution_count": 3,
     "metadata": {},
     "output_type": "execute_result"
    }
   ],
   "source": [
    "s_net.addNeuron(1, [0.1], 1, [5])\n",
    "s_net.addNeuron(1, [0.11], 1, [7])\n",
    "s_net.addNeuron(2, [0.17, 0.06], 2, [10, 7])\n",
    "s_net.addNeuron(1, [0.05], 1, [5])\n",
    "s_net.addNeuron(1, [0.07], 1, [5])"
   ]
  },
  {
   "cell_type": "markdown",
   "metadata": {},
   "source": [
    "Now that we have 4 neurons in our network, we can connect them using synapses.<br>\n",
    "<br>\n",
    "The method used for this is ```connect```.<br>\n",
    "<br>\n",
    "```connect(self, presyn_id, postsyn_id, syn_type)```<br>\n",
    "<br>\n",
    "Parameters:<br>\n",
    "&emsp;presyn_id (list): list with 2 elements: presynaptic neuron id and index of the axon in the presynaptic neuron.<br>\n",
    "&emsp;postsyn_id (list): list with 2 elements: postsynaptic neuron id and index of the dendrite in the postsynaptic neuron.<br>\n",
    "&emsp;syn_type (str): the type of synapse to be used. Allowed values are 'nmda' and 'non-nmda'.<br>\n",
    "<br>\n",
    "Returns:<br>\n",
    "&emsp;syn_id (int): the id of the synapse. This is the number of synapses previously present in the network.\n"
   ]
  },
  {
   "cell_type": "code",
   "execution_count": 4,
   "metadata": {},
   "outputs": [
    {
     "data": {
      "text/plain": [
       "3"
      ]
     },
     "execution_count": 4,
     "metadata": {},
     "output_type": "execute_result"
    }
   ],
   "source": [
    "s_net.connect([0,0],[2,0],'non-nmda')\n",
    "s_net.connect([1,0],[2,1],'nmda')\n",
    "s_net.connect([2,0],[3,0],'non-nmda')\n",
    "s_net.connect([2,1],[4,0],'nmda')"
   ]
  },
  {
   "cell_type": "markdown",
   "metadata": {},
   "source": [
    "Now the network is ready with its neurons connected with each other.<br>\n",
    "<br>\n",
    "We now have to give an input to our network. The ```currents``` module provides useful methods for this.<br>\n",
    "<br>\n",
    "The class ```CInput``` is a container for the functions which can be generated."
   ]
  },
  {
   "cell_type": "markdown",
   "metadata": {},
   "source": [
    "The most useful functions are step and pulse. These can be generated using the classes ```CStep``` and ```CPulse```.<br>\n",
    "<br>\n",
    "```CStep(mag, start_time=0, timestep=0.001)```<br>\n",
    "```CPulse(mag, width, start_time=0, timestep=0.001)```<br>\n",
    "<br>\n",
    "Any arbitrary function can be generated using ```CPulse``` with appropriate values of ```mag```, ```width``` and ```start_time```."
   ]
  },
  {
   "cell_type": "markdown",
   "metadata": {},
   "source": [
    "Now let us generate two ```CInput```s to be given to two neurons."
   ]
  },
  {
   "cell_type": "code",
   "execution_count": 5,
   "metadata": {},
   "outputs": [],
   "source": [
    "c1 = currents.CInput()\n",
    "c1.add(currents.CStep(0.1))\n",
    "c2 = currents.CInput()\n",
    "c2.add(currents.CStep(0.2))"
   ]
  },
  {
   "cell_type": "markdown",
   "metadata": {},
   "source": [
    "We're now ready to simulate the network.<br>\n",
    "<br>\n",
    "```SpyNet``` has a builtin method ```simulate ``` which simulates the network with given inputs for a given time and returns the somatic membrane potentials of each neuron and associated timepoints.<br>\n",
    "<br>\n",
    "If you want to probe for other points like voltages at axon terminals, synaptic currents, etc. there's another method ```simulate_step``` which simulates one timestep at a time. One can run this in a loop and measure the various variables."
   ]
  },
  {
   "cell_type": "markdown",
   "metadata": {},
   "source": [
    "```simulate(inp_index, inps, end_time=100, timestep=0.001)```<br>\n",
    "<br>\n",
    "Parameters:<br>\n",
    "&emsp;inp_index (list): list of neurons to which external inputs are to be given.<br>\n",
    "&emsp;inps (list): list of inputs to each neuron. Each element is a list of inputs to each dendrite of that specific neuron.<br>\n",
    "&emsp;end_time (float): simulation time (in milliseconds).<br>\n",
    "&emsp;timestep (float): duration of each simulation step (in milliseconds).<br>\n",
    "<br>\n",
    "Returns:<br>\n",
    "&emsp;potentials (np.ndarray): a numpy array of shape (number_of_neurons, number_of_timepoints) containing somatic membrane potentials of every neuron at all timepoints.<br>\n",
    "&emsp;timepoints (np.ndarray): an array of values of t at all timesteps.\n"
   ]
  },
  {
   "cell_type": "markdown",
   "metadata": {},
   "source": [
    "Running the simulation can take quite some time. If running on a CPU you might wanna go grab a coffee, have a walk and come back."
   ]
  },
  {
   "cell_type": "code",
   "execution_count": 6,
   "metadata": {},
   "outputs": [
    {
     "name": "stdout",
     "output_type": "stream",
     "text": [
      "Total simulation time: 50.0ms\n",
      "Starting simulation....\n",
      "Progress: [========================================>] 50.0/50.0ms\n",
      "Time taken: 187.10s\n"
     ]
    }
   ],
   "source": [
    "potentials, timepoints = s_net.simulate([0,1],[[c1],[c2]], end_time=50)"
   ]
  },
  {
   "cell_type": "markdown",
   "metadata": {},
   "source": [
    "We can plot the simulated results using ```matplotlib.pyplot```"
   ]
  },
  {
   "cell_type": "code",
   "execution_count": 7,
   "metadata": {},
   "outputs": [
    {
     "data": {
      "image/png": "[encoded data removed]",
      "text/plain": [
       "<Figure size 432x288 with 1 Axes>"
      ]
     },
     "metadata": {
      "needs_background": "light"
     },
     "output_type": "display_data"
    }
   ],
   "source": [
    "%matplotlib inline\n",
    "import matplotlib.pyplot as plt\n",
    "for i in range(potentials.shape[0]):\n",
    "    plt.plot(timepoints, potentials[i,:], label = 'neuron'+str(i))\n",
    "plt.legend()\n",
    "plt.title('Somatic membrane potentials')\n",
    "plt.xlabel('Time (in ms)')\n",
    "plt.ylabel('Potentials (in mV)')\n",
    "plt.show()"
   ]
  },
  {
   "cell_type": "markdown",
   "metadata": {},
   "source": [
    "Use the method ```reset``` to reset all neurons and synapses in the network.<br>\n",
    "Use ```clear``` to remove all neurons and synapses and start afresh.<br>\n",
    "You can now try simulating the system with other inputs, different configurations, changed parameters, etc.<br>\n",
    "<br>\n",
    "Feel free to play around with the source code. Have fun! :)"
   ]
  },
  {
   "cell_type": "markdown",
   "metadata": {},
   "source": [
    "__Note__: This is a project under development. Future work includes addition of inhibitory synapses, branching dendrites among other things. Please drop a [mail](mailto:sanjeet029@gmail.com) if you have any suggestions or want to collaborate."
   ]
  }
 ],
 "metadata": {
  "kernelspec": {
   "display_name": "Python 3",
   "language": "python",
   "name": "python3"
  },
  "language_info": {
   "codemirror_mode": {
    "name": "ipython",
    "version": 3
   },
   "file_extension": ".py",
   "mimetype": "text/x-python",
   "name": "python",
   "nbconvert_exporter": "python",
   "pygments_lexer": "ipython3",
   "version": "3.5.2"
  }
 },
 "nbformat": 4,
 "nbformat_minor": 2
}
